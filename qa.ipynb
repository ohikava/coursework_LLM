{
 "cells": [
  {
   "cell_type": "code",
   "execution_count": 26,
   "metadata": {},
   "outputs": [
    {
     "data": {
      "text/plain": [
       "'Я - GigaChat, генеративная языковая модель, созданная Сбером в России. Моя задача - помогать пользователям, отвечая на их вопросы, выполняя инструкции и поддерживая беседу. Я обучена на большом объеме русскоязычных текстов и могу вести диалог на различные темы. Если у вас есть какие-либо вопросы или нужна помощь, я готова помочь вам наилучшим образом.'"
      ]
     },
     "execution_count": 26,
     "metadata": {},
     "output_type": "execute_result"
    }
   ],
   "source": [
    "from dotenv import load_dotenv\n",
    "import os\n",
    "from langchain.chat_models.gigachat import GigaChat\n",
    "\n",
    "load_dotenv()\n",
    "\n",
    "AUTH_DATA_GIGA = os.getenv('AUTHORIZATION_DATA_GIGA')\n",
    "giga = GigaChat(credentials=AUTH_DATA_GIGA, verify_ssl_certs=False, model='GigaChat')\n",
    "\n",
    "giga.call_as_llm(\"Расскажи о себе\")"
   ]
  },
  {
   "cell_type": "code",
   "execution_count": 24,
   "metadata": {},
   "outputs": [],
   "source": [
    "import sys \n",
    "!{sys.executable} -m pip freeze > requirements.txt"
   ]
  },
  {
   "cell_type": "code",
   "execution_count": null,
   "metadata": {},
   "outputs": [],
   "source": []
  }
 ],
 "metadata": {
  "kernelspec": {
   "display_name": "Python 3",
   "language": "python",
   "name": "python3"
  },
  "language_info": {
   "codemirror_mode": {
    "name": "ipython",
    "version": 3
   },
   "file_extension": ".py",
   "mimetype": "text/x-python",
   "name": "python",
   "nbconvert_exporter": "python",
   "pygments_lexer": "ipython3",
   "version": "3.12.2"
  }
 },
 "nbformat": 4,
 "nbformat_minor": 2
}
